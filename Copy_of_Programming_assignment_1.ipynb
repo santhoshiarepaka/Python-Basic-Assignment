{
  "nbformat": 4,
  "nbformat_minor": 0,
  "metadata": {
    "colab": {
      "name": "Copy of Programming_assignment_1.ipynb",
      "provenance": [],
      "authorship_tag": "ABX9TyP4b7MkEC/I5fbdQ5zTKSzK",
      "include_colab_link": true
    },
    "kernelspec": {
      "name": "python3",
      "display_name": "Python 3"
    },
    "language_info": {
      "name": "python"
    }
  },
  "cells": [
    {
      "cell_type": "markdown",
      "metadata": {
        "id": "view-in-github",
        "colab_type": "text"
      },
      "source": [
        "<a href=\"https://colab.research.google.com/github/santhoshiarepaka/Python-Basic-Assignment/blob/main/Copy_of_Programming_assignment_1.ipynb\" target=\"_parent\"><img src=\"https://colab.research.google.com/assets/colab-badge.svg\" alt=\"Open In Colab\"/></a>"
      ]
    },
    {
      "cell_type": "code",
      "metadata": {
        "id": "4ZRnpVZraZCd",
        "colab": {
          "base_uri": "https://localhost:8080/"
        },
        "outputId": "75f97dba-ce72-4f13-9c21-65dd144a0569"
      },
      "source": [
        "#program to print \"Hello Python\"\n",
        "print(\"Hello Python\")"
      ],
      "execution_count": null,
      "outputs": [
        {
          "output_type": "stream",
          "text": [
            "Hello Python\n"
          ],
          "name": "stdout"
        }
      ]
    },
    {
      "cell_type": "code",
      "metadata": {
        "colab": {
          "base_uri": "https://localhost:8080/"
        },
        "id": "jaM9cfsnKmkC",
        "outputId": "f038ceeb-90fc-4d84-8815-34cbf95f2c72"
      },
      "source": [
        "#program to do arithematical operations addition and division\n",
        "print(\"Enter first number: \")\n",
        "a = int(input())\n",
        "print(\"Enter second number: \")\n",
        "b = int(input())\n",
        "print(\"Addition of two numbers: \", a+b)\n",
        "print(\"Division of two numbers: \", a/b)"
      ],
      "execution_count": null,
      "outputs": [
        {
          "output_type": "stream",
          "text": [
            "Enter first number: \n",
            "10\n",
            "Enter second number: \n",
            "20\n",
            "Addition of two numbers:  30\n",
            "Division of two numbers:  0.5\n"
          ],
          "name": "stdout"
        }
      ]
    },
    {
      "cell_type": "code",
      "metadata": {
        "colab": {
          "base_uri": "https://localhost:8080/"
        },
        "id": "WKeKW2-aLMox",
        "outputId": "b10e4957-5ce8-45ac-db9d-286ab40a6e86"
      },
      "source": [
        "#program to calculate area of a triangle\n",
        "print(\"Enter length of base of a triangle: \")\n",
        "b = float(input())\n",
        "print(\"Enter height of a triangle: \")\n",
        "h = float(input())\n",
        "print(\"Area of a triangle: \", 0.5*b*h)"
      ],
      "execution_count": null,
      "outputs": [
        {
          "output_type": "stream",
          "text": [
            "Enter length of base of a triangle: \n",
            "10\n",
            "Enter height of a triangle: \n",
            "12\n",
            "Area of a triangle:  60.0\n"
          ],
          "name": "stdout"
        }
      ]
    },
    {
      "cell_type": "code",
      "metadata": {
        "colab": {
          "base_uri": "https://localhost:8080/"
        },
        "id": "KwOtu5A-LxDO",
        "outputId": "e99217de-5a66-42a0-f311-e45bed032fca"
      },
      "source": [
        "#program to swap two variables\n",
        "print(\"Enter first number: \")\n",
        "a = int(input())\n",
        "print(\"Enter second number: \")\n",
        "b = int(input())\n",
        "print(\"Before swapping: \")\n",
        "print(\"First number: \", a)\n",
        "print(\"Second number: \", b)\n",
        "c = a\n",
        "a = b\n",
        "b = c\n",
        "print(\"After swapping: \")\n",
        "print(\"First number: \", a)\n",
        "print(\"Second number: \", b)"
      ],
      "execution_count": null,
      "outputs": [
        {
          "output_type": "stream",
          "text": [
            "Enter first number: \n",
            "10\n",
            "Enter second number: \n",
            "20\n",
            "Before swapping: \n",
            "First number:  10\n",
            "Second number:  20\n",
            "After swapping: \n",
            "First number:  20\n",
            "Second number:  10\n"
          ],
          "name": "stdout"
        }
      ]
    },
    {
      "cell_type": "code",
      "metadata": {
        "id": "KmeCj3GwNmHV"
      },
      "source": [
        ""
      ],
      "execution_count": null,
      "outputs": []
    }
  ]
}