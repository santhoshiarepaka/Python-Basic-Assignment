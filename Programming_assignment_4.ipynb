{
  "nbformat": 4,
  "nbformat_minor": 0,
  "metadata": {
    "colab": {
      "name": "Untitled1.ipynb",
      "provenance": [],
      "authorship_tag": "ABX9TyMnIA9aHISKk2EEVvSBxXhQ",
      "include_colab_link": true
    },
    "kernelspec": {
      "name": "python3",
      "display_name": "Python 3"
    },
    "language_info": {
      "name": "python"
    }
  },
  "cells": [
    {
      "cell_type": "markdown",
      "metadata": {
        "id": "view-in-github",
        "colab_type": "text"
      },
      "source": [
        "<a href=\"https://colab.research.google.com/github/santhoshiarepaka/Python-Basic-Assignment/blob/main/Programming_assignment_4.ipynb\" target=\"_parent\"><img src=\"https://colab.research.google.com/assets/colab-badge.svg\" alt=\"Open In Colab\"/></a>"
      ]
    },
    {
      "cell_type": "code",
      "metadata": {
        "colab": {
          "base_uri": "https://localhost:8080/"
        },
        "id": "VmWc7eWIzZxr",
        "outputId": "1c2de2ca-71e0-48b7-a8a9-003f8e013f7b"
      },
      "source": [
        "# program to find factorial of a number\n",
        "print(\"Enter a number: \")\n",
        "a = int(input())\n",
        "fact = 1\n",
        "for i in range(1,a+1):\n",
        "  fact = fact*i\n",
        "print(\"Factorial = \", fact)\n"
      ],
      "execution_count": 2,
      "outputs": [
        {
          "output_type": "stream",
          "text": [
            "Enter a number: \n",
            "14\n",
            "Factorial =  87178291200\n"
          ],
          "name": "stdout"
        }
      ]
    },
    {
      "cell_type": "code",
      "metadata": {
        "colab": {
          "base_uri": "https://localhost:8080/"
        },
        "id": "0TJ5SVQ30F7a",
        "outputId": "42e671e0-e88f-4c6a-eb21-b31524df91b1"
      },
      "source": [
        "#program to print multiplication table\n",
        "print(\"Enter a number: \")\n",
        "a = int(input())\n",
        "for i in range(1, 16):\n",
        "  print(a,\"*\",i,\"=\",a*i)\n"
      ],
      "execution_count": 4,
      "outputs": [
        {
          "output_type": "stream",
          "text": [
            "Enter a number: \n",
            "10\n",
            "10 * 1 = 10\n",
            "10 * 2 = 20\n",
            "10 * 3 = 30\n",
            "10 * 4 = 40\n",
            "10 * 5 = 50\n",
            "10 * 6 = 60\n",
            "10 * 7 = 70\n",
            "10 * 8 = 80\n",
            "10 * 9 = 90\n",
            "10 * 10 = 100\n",
            "10 * 11 = 110\n",
            "10 * 12 = 120\n",
            "10 * 13 = 130\n",
            "10 * 14 = 140\n",
            "10 * 15 = 150\n"
          ],
          "name": "stdout"
        }
      ]
    },
    {
      "cell_type": "code",
      "metadata": {
        "colab": {
          "base_uri": "https://localhost:8080/"
        },
        "id": "uEfASF2O1Bpt",
        "outputId": "15a32a36-9010-4acd-eac6-448b24e7afc4"
      },
      "source": [
        "#program to print the fibonacci series\n",
        "print(\"Enter the value of n: \")\n",
        "n = int(input())\n",
        "i = 0\n",
        "j = 1\n",
        "cnt = 1\n",
        "print(j)\n",
        "while (cnt < n):\n",
        "  sum = i + j\n",
        "  print(sum)\n",
        "  cnt = cnt + 1\n",
        "  i = j\n",
        "  j = sum"
      ],
      "execution_count": 5,
      "outputs": [
        {
          "output_type": "stream",
          "text": [
            "Enter the value of n: \n",
            "10\n",
            "1\n",
            "1\n",
            "2\n",
            "3\n",
            "5\n",
            "8\n",
            "13\n",
            "21\n",
            "34\n",
            "55\n"
          ],
          "name": "stdout"
        }
      ]
    },
    {
      "cell_type": "code",
      "metadata": {
        "colab": {
          "base_uri": "https://localhost:8080/"
        },
        "id": "ZHgF9yVa1bsJ",
        "outputId": "b5e340cf-4476-412b-d308-c5730904f9ea"
      },
      "source": [
        "#program to check armstrong number\n",
        "print(\"Enter a number: \")\n",
        "n = int(input())\n",
        "number = n\n",
        "sum = 0\n",
        "while (n!=0):\n",
        "  a = n%10\n",
        "  sum = sum + a**3\n",
        "  n = int(n/10)\n",
        "print (\"Sum = \",sum)\n",
        "if (sum == number):\n",
        "  print(\"Armstrong number\")\n",
        "else:\n",
        "  print(\"Not a armstrong number\")\n"
      ],
      "execution_count": 12,
      "outputs": [
        {
          "output_type": "stream",
          "text": [
            "Enter a number: \n",
            "153\n",
            "Sum =  153\n",
            "Armstrong number\n"
          ],
          "name": "stdout"
        }
      ]
    },
    {
      "cell_type": "code",
      "metadata": {
        "colab": {
          "base_uri": "https://localhost:8080/"
        },
        "id": "Q4Fc2AyY48up",
        "outputId": "32fbe447-1431-4e60-d631-67b464188861"
      },
      "source": [
        "# program to print armstrong numbers in an interval\n",
        "print(\"Enter a lower limit of the interval: \")\n",
        "m = int(input())\n",
        "print (\"Enter a upper limit of the interval: \")\n",
        "n = int(input())\n",
        "for i in range (m, n+1):\n",
        "  number = i\n",
        "  sum = 0\n",
        "  while (i!=0):\n",
        "    a = i%10\n",
        "    sum = sum + a**3\n",
        "    i = int(i/10)\n",
        "  if (sum == number):\n",
        "    print(number)"
      ],
      "execution_count": 16,
      "outputs": [
        {
          "output_type": "stream",
          "text": [
            "Enter a lower limit of the interval: \n",
            "150\n",
            "Enter a upper limit of the interval: \n",
            "500\n",
            "153\n",
            "370\n",
            "371\n",
            "407\n"
          ],
          "name": "stdout"
        }
      ]
    },
    {
      "cell_type": "code",
      "metadata": {
        "colab": {
          "base_uri": "https://localhost:8080/"
        },
        "id": "RzH0i-9L7DG0",
        "outputId": "262285ef-af59-44d4-d4d8-69a4dcbcd03b"
      },
      "source": [
        "#program to print sum of natural numbers\n",
        "print(\"Enter a number:\")\n",
        "a = int(input())\n",
        "sum = 0\n",
        "for i in range(1,a+1):\n",
        "  sum = sum +i\n",
        "print(\"Sum of \", a,\" natural numbers = \", sum)\n"
      ],
      "execution_count": 17,
      "outputs": [
        {
          "output_type": "stream",
          "text": [
            "Enter a number:\n",
            "10\n",
            "Sum of  10  natural numbers =  55\n"
          ],
          "name": "stdout"
        }
      ]
    }
  ]
}