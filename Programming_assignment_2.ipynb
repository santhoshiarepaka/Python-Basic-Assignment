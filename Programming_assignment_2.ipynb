{
  "nbformat": 4,
  "nbformat_minor": 0,
  "metadata": {
    "colab": {
      "name": "Programming_assignment_2.ipynb",
      "provenance": [],
      "collapsed_sections": [],
      "authorship_tag": "ABX9TyNj7gurauiEIbIe14lJjFNK",
      "include_colab_link": true
    },
    "kernelspec": {
      "name": "python3",
      "display_name": "Python 3"
    },
    "language_info": {
      "name": "python"
    }
  },
  "cells": [
    {
      "cell_type": "markdown",
      "metadata": {
        "id": "view-in-github",
        "colab_type": "text"
      },
      "source": [
        "<a href=\"https://colab.research.google.com/github/santhoshiarepaka/Python-Basic-Assignment/blob/main/Programming_assignment_2.ipynb\" target=\"_parent\"><img src=\"https://colab.research.google.com/assets/colab-badge.svg\" alt=\"Open In Colab\"/></a>"
      ]
    },
    {
      "cell_type": "code",
      "metadata": {
        "colab": {
          "base_uri": "https://localhost:8080/"
        },
        "id": "EbhzTqxk3JVS",
        "outputId": "f08c2dde-d91f-47d0-8763-c09ff9721b74"
      },
      "source": [
        "#program to convert kilometers to miles\n",
        "print(\"Enter number of Kilometers: \")\n",
        "km = float(input())\n",
        "print(\"Number of miles: \", km*0.621371)"
      ],
      "execution_count": null,
      "outputs": [
        {
          "output_type": "stream",
          "text": [
            "Enter number of Kilometers: \n",
            "23\n",
            "Number of miles:  14.291533\n"
          ],
          "name": "stdout"
        }
      ]
    },
    {
      "cell_type": "code",
      "metadata": {
        "colab": {
          "base_uri": "https://localhost:8080/"
        },
        "id": "rAkohE-b34WF",
        "outputId": "082c54c3-10ed-4f93-d95b-ef5562acfaa1"
      },
      "source": [
        "#program to convert celsius to farenheit\n",
        "print(\"Enter the temperature in Celsius: \")\n",
        "c = float(input())\n",
        "f = (c*(9/5))+ 32\n",
        "print(\"Temperature in Farenheit: \", f)"
      ],
      "execution_count": null,
      "outputs": [
        {
          "output_type": "stream",
          "text": [
            "Enter the temperature in Celsius: \n",
            "12.3\n",
            "Temperature in Farenheit:  54.14\n"
          ],
          "name": "stdout"
        }
      ]
    },
    {
      "cell_type": "code",
      "metadata": {
        "colab": {
          "base_uri": "https://localhost:8080/"
        },
        "id": "FmWtTxYS407N",
        "outputId": "90ea8d7a-bb91-4246-a4ec-4a82dfcbb611"
      },
      "source": [
        "#program to display Calendar\n",
        "import calendar\n",
        "print(\"Enter year: \")\n",
        "year = int(input())\n",
        "print(\"Enter month: \")\n",
        "month = int(input())\n",
        "print(calendar.month(year,month))"
      ],
      "execution_count": null,
      "outputs": [
        {
          "output_type": "stream",
          "text": [
            "Enter year: \n",
            "2020\n",
            "Enter month: \n",
            "08\n",
            "    August 2020\n",
            "Mo Tu We Th Fr Sa Su\n",
            "                1  2\n",
            " 3  4  5  6  7  8  9\n",
            "10 11 12 13 14 15 16\n",
            "17 18 19 20 21 22 23\n",
            "24 25 26 27 28 29 30\n",
            "31\n",
            "\n"
          ],
          "name": "stdout"
        }
      ]
    },
    {
      "cell_type": "code",
      "metadata": {
        "colab": {
          "base_uri": "https://localhost:8080/"
        },
        "id": "6OirGwzk5r6n",
        "outputId": "0f6065b1-af49-4567-e5d0-455a75ed7ccd"
      },
      "source": [
        "#program to solve quadratic equation\n",
        "print(\"quadratic equation: ax^2 + bx + c = 0\")\n",
        "print(\"Enter a:\")\n",
        "a = int(input())\n",
        "print(\"Enter b:\")\n",
        "b = int(input())\n",
        "print(\"Enter c:\")\n",
        "c = int(input())\n",
        "d = b**2-4*a*c\n",
        "if (d>0) or (d<0):\n",
        "  x1 = (-b-(d**(1/2)))/(2*a)\n",
        "  x2 = (-b+(d**(1/2)))/(2*a)\n",
        "  print(\"Values of x are:  \",x1,\"and\",x2)\n",
        "elif (d==0):\n",
        "  x = -b/(2*a)\n",
        "  print(\"Value of x is: \",x)"
      ],
      "execution_count": null,
      "outputs": [
        {
          "output_type": "stream",
          "text": [
            "quadratic equation: ax^2 + bx + c = 0\n",
            "Enter a:\n",
            "1\n",
            "Enter b:\n",
            "0\n",
            "Enter c:\n",
            "-16\n",
            "8.0\n",
            "Values of x are:   -4.0 and 4.0\n"
          ],
          "name": "stdout"
        }
      ]
    },
    {
      "cell_type": "code",
      "metadata": {
        "id": "X4Plnv8JE-hx",
        "colab": {
          "base_uri": "https://localhost:8080/"
        },
        "outputId": "8a050beb-5044-46fe-8433-914859bd05d0"
      },
      "source": [
        "print(\"Enter first variable: \")\n",
        "x = input()\n",
        "print(\"Enter second variable: \")\n",
        "y = input()\n",
        "print(\"Before swapping, x= \",x,\",y=\",y)\n",
        "x,y = y,x\n",
        "print(\"After swapping, x= \",x,\",y=\",y)"
      ],
      "execution_count": null,
      "outputs": [
        {
          "output_type": "stream",
          "text": [
            "Enter first variable: \n",
            "100\n",
            "Enter second variable: \n",
            "123\n",
            "Before swapping, x=  100 ,y= 123\n",
            "After swapping, x=  123 ,y= 100\n"
          ],
          "name": "stdout"
        }
      ]
    }
  ]
}