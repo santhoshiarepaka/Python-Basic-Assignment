{
  "nbformat": 4,
  "nbformat_minor": 0,
  "metadata": {
    "colab": {
      "name": "Python_Basics_Course.ipynb",
      "provenance": [],
      "collapsed_sections": [],
      "authorship_tag": "ABX9TyO6cqJGLYTqrz9AaR9awbAi",
      "include_colab_link": true
    },
    "kernelspec": {
      "name": "python3",
      "display_name": "Python 3"
    },
    "language_info": {
      "name": "python"
    }
  },
  "cells": [
    {
      "cell_type": "markdown",
      "metadata": {
        "id": "view-in-github",
        "colab_type": "text"
      },
      "source": [
        "<a href=\"https://colab.research.google.com/github/santhoshiarepaka/Python-Basic-Assignment/blob/main/Python_Basics_Course.ipynb\" target=\"_parent\"><img src=\"https://colab.research.google.com/assets/colab-badge.svg\" alt=\"Open In Colab\"/></a>"
      ]
    },
    {
      "cell_type": "code",
      "metadata": {
        "colab": {
          "base_uri": "https://localhost:8080/"
        },
        "id": "dDW1xQMcBQb7",
        "outputId": "f27fbfa7-c041-4d34-d8a4-169e1ac6aef6"
      },
      "source": [
        "print(\"Enter a number: \")\n",
        "b = int(input())\n",
        "if (b%3 == 0):\n",
        "  if (b%5 == 0):\n",
        "    print(\"Zoom\")\n",
        "  else:\n",
        "    print(\"Zip\")\n",
        "elif (b%5 == 0):\n",
        "  print(\"Zap\")\n",
        "else:\n",
        "  print(\"Invalid\")"
      ],
      "execution_count": null,
      "outputs": [
        {
          "output_type": "stream",
          "text": [
            "Enter a number: \n",
            "30\n",
            "Zoom\n"
          ],
          "name": "stdout"
        }
      ]
    },
    {
      "cell_type": "code",
      "metadata": {
        "colab": {
          "base_uri": "https://localhost:8080/"
        },
        "id": "xOpjrwRmDlut",
        "outputId": "888650dd-c130-47cc-d863-6566f1762550"
      },
      "source": [
        "# print sum of digits of a number\n",
        "print(\"Enter a number: \")\n",
        "b = int(input())\n",
        "sum = 0\n",
        "i = b\n",
        "while i != 0:\n",
        "  j = i%10\n",
        "  sum = sum+j\n",
        "  i = i//10\n",
        "print(\"Sum of digits:\", sum)"
      ],
      "execution_count": null,
      "outputs": [
        {
          "output_type": "stream",
          "text": [
            "Enter a number: \n",
            "200\n",
            "Sum of digits: 2\n"
          ],
          "name": "stdout"
        }
      ]
    },
    {
      "cell_type": "code",
      "metadata": {
        "colab": {
          "base_uri": "https://localhost:8080/"
        },
        "id": "DMxO8J3UUGpE",
        "outputId": "9f5742fe-7d1a-4eca-f918-caae074c9161"
      },
      "source": [
        "# check whether a given year is leap or not\n",
        "print(\"Enter a year: \")\n",
        "year = int(input())\n",
        "if (year%400 == 0):\n",
        "  print(year, \"is a leap year\")\n",
        "elif (year%4 == 0):\n",
        "  if(year%100 !=0):\n",
        "    print(year, \"is a leap year\")\n",
        "  else:\n",
        "    print(year, \"is not a leap year\")\n",
        "else:\n",
        "  print(year, \" is not a leap year\")"
      ],
      "execution_count": null,
      "outputs": [
        {
          "output_type": "stream",
          "text": [
            "Enter a year: \n",
            "1996\n",
            "1996 is a leap year\n"
          ],
          "name": "stdout"
        }
      ]
    },
    {
      "cell_type": "code",
      "metadata": {
        "colab": {
          "base_uri": "https://localhost:8080/"
        },
        "id": "Bm3bG7gCYWwx",
        "outputId": "7867a894-dbe1-4f6e-95f6-e65adf576a0c"
      },
      "source": [
        "# find and display maximum of 3 numbers\n",
        "print(\"Enter number 1:\")\n",
        "a = int(input())\n",
        "print(\"Enter number 2:\")\n",
        "b = int(input())\n",
        "print(\"Enter number 3:\")\n",
        "c = int(input())\n",
        "if (a>b and a>c):\n",
        "  print(\"maximum number is \", a)\n",
        "elif (b>a and b>c):\n",
        "  print(\"maximum number is \", b)\n",
        "elif (c>a and c>b):\n",
        "  print(\"maximum number is \", c)\n",
        "else:\n",
        "  print(\"all are equal\")"
      ],
      "execution_count": null,
      "outputs": [
        {
          "output_type": "stream",
          "text": [
            "Enter number 1:\n",
            "12\n",
            "Enter number 2:\n",
            "12\n",
            "Enter number 3:\n",
            "12\n",
            "all are equal\n"
          ],
          "name": "stdout"
        }
      ]
    },
    {
      "cell_type": "code",
      "metadata": {
        "colab": {
          "base_uri": "https://localhost:8080/"
        },
        "id": "jwJI3unun-8v",
        "outputId": "327255e4-e40a-4e26-aa4d-b49a90069596"
      },
      "source": [
        "#check if a number is prime or not\n",
        "print(\"Enter a number: \")\n",
        "a = int(input())\n",
        "if (a> 0 and a<=3):\n",
        "  print(\"Prime number\")\n",
        "elif (a<0):\n",
        "  print(\"Invalid number\")\n",
        "else:\n",
        "  count = 0\n",
        "  for i in range(1,a+1):\n",
        "    if (a%i == 0):\n",
        "      count = count+1\n",
        "  if (count == 2):\n",
        "    print(\"Prime number\")\n",
        "  else:\n",
        "    print(\"Not a prime number\")\n"
      ],
      "execution_count": null,
      "outputs": [
        {
          "output_type": "stream",
          "text": [
            "Enter a number: \n",
            "2\n",
            "Prime number\n"
          ],
          "name": "stdout"
        }
      ]
    },
    {
      "cell_type": "code",
      "metadata": {
        "colab": {
          "base_uri": "https://localhost:8080/"
        },
        "id": "44O24sbsq98f",
        "outputId": "2625527d-a1e2-4291-9795-16da2172c630"
      },
      "source": [
        "#fibonacci series\n",
        "print(\"Enter the value of n: \")\n",
        "n = int(input())\n",
        "i = 0\n",
        "j = 1\n",
        "cnt = 1\n",
        "print(j)\n",
        "while (cnt < n):\n",
        "  sum = i + j\n",
        "  print(sum)\n",
        "  cnt = cnt + 1\n",
        "  i = j\n",
        "  j = sum\n"
      ],
      "execution_count": null,
      "outputs": [
        {
          "output_type": "stream",
          "text": [
            "Enter the value of n: \n",
            "12\n",
            "1\n",
            "1\n",
            "2\n",
            "3\n",
            "5\n",
            "8\n",
            "13\n",
            "21\n",
            "34\n",
            "55\n",
            "89\n",
            "144\n"
          ],
          "name": "stdout"
        }
      ]
    },
    {
      "cell_type": "code",
      "metadata": {
        "colab": {
          "base_uri": "https://localhost:8080/"
        },
        "id": "_8rVHa1XuZyE",
        "outputId": "686f2115-34b2-4550-e895-b6cd884f3e98"
      },
      "source": [
        "# calculate salary hike\n",
        "print(\"Enter Job level of employee: \")\n",
        "job = int(input())\n",
        "print(\"Enter Salary of the employee: \")\n",
        "sal = float(input())\n",
        "if(job == 3):\n",
        "  newsal = sal + (sal*15)/100\n",
        "  print(\"New salary is \", newsal)\n",
        "elif(job == 4):\n",
        "  newsal = sal + (sal*7)/100\n",
        "  print(\"New salary is \", newsal)\n",
        "elif(job == 5):\n",
        "  newsal = sal + (sal*5)/100\n",
        "  print(\"New salary is \", newsal)\n",
        "else:\n",
        "  print(\"New salary is \", sal)"
      ],
      "execution_count": null,
      "outputs": [
        {
          "output_type": "stream",
          "text": [
            "Enter Job level of employee: \n",
            "2\n",
            "Enter Salary of the employee: \n",
            "100\n",
            "New salary is  100.0\n"
          ],
          "name": "stdout"
        }
      ]
    },
    {
      "cell_type": "code",
      "metadata": {
        "colab": {
          "base_uri": "https://localhost:8080/"
        },
        "id": "_hva9WNQw5sd",
        "outputId": "b6cedadb-f7dc-447a-cb29-e70a327a4317"
      },
      "source": [
        "#Function to find square of a number\n",
        "def find_square(n):\n",
        "  return n*n\n",
        "print(\"Enter a number:\")\n",
        "a = int(input())\n",
        "sq = find_square(a)\n",
        "print(\"Square of the number:\", sq)"
      ],
      "execution_count": null,
      "outputs": [
        {
          "output_type": "stream",
          "text": [
            "Enter a number:\n",
            "12\n",
            "Square of the number: 144\n"
          ],
          "name": "stdout"
        }
      ]
    },
    {
      "cell_type": "code",
      "metadata": {
        "colab": {
          "base_uri": "https://localhost:8080/"
        },
        "id": "-RYHpUYxxlBV",
        "outputId": "2a7836dd-fbf5-42c6-dc00-1862c9993118"
      },
      "source": [
        "# function to find sum of first N numbers\n",
        "def find_sum(n):\n",
        "  sum = 0\n",
        "  for i in range(1,n+1):\n",
        "    sum = sum+i\n",
        "  return sum\n",
        "print(\"Enter a value for n : \")\n",
        "b = int(input())\n",
        "print(\"Sum of first \",b,\"numbers is: \",find_sum(b) )\n"
      ],
      "execution_count": null,
      "outputs": [
        {
          "output_type": "stream",
          "text": [
            "Enter a value for n : \n",
            "12\n",
            "Sum of first  12 numbers is:  78\n"
          ],
          "name": "stdout"
        }
      ]
    },
    {
      "cell_type": "code",
      "metadata": {
        "colab": {
          "base_uri": "https://localhost:8080/"
        },
        "id": "NdGfl7h3nDg2",
        "outputId": "85494e52-f396-4d6a-b0d6-364f17288ede"
      },
      "source": [
        "def change_number(num):\n",
        "    num+=10\n",
        "def change_list(num_list):\n",
        "    num_list.append(20)\n",
        "num_val=10\n",
        "print(\"*********effect of pass by value*********\")\n",
        "print(\"num_val before function call:\", num_val)\n",
        "change_number(num_val)\n",
        "print(\"num_val after function call:\", num_val)\n",
        "print(\"-----------------------------------------------\")\n",
        "val_list=[5,10,15]\n",
        "print(\"*********effect of pass by reference*********\")\n",
        "print(\"val_list before function call:\", val_list)\n",
        "change_list(val_list)\n",
        "print(\"val_list after function call:\", val_list)\n"
      ],
      "execution_count": null,
      "outputs": [
        {
          "output_type": "stream",
          "text": [
            "*********effect of pass by value*********\n",
            "num_val before function call: 10\n",
            "num_val after function call: 10\n",
            "-----------------------------------------------\n",
            "*********effect of pass by reference*********\n",
            "val_list before function call: [5, 10, 15]\n",
            "val_list after function call: [5, 10, 15, 20]\n"
          ],
          "name": "stdout"
        }
      ]
    }
  ]
}